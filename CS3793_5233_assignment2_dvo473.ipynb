{
  "nbformat": 4,
  "nbformat_minor": 0,
  "metadata": {
    "colab": {
      "name": "CS3793/5233_assignment2_abc123.ipynb",
      "provenance": [],
      "collapsed_sections": [],
      "toc_visible": true
    },
    "kernelspec": {
      "name": "python3",
      "display_name": "Python 3"
    }
  },
  "cells": [
    {
      "cell_type": "markdown",
      "metadata": {
        "id": "9wUL_Fy5qUDI",
        "colab_type": "text"
      },
      "source": [
        "# UTSA CS 3793/5233: Assignment-2\n",
        "\n",
        "Summer 2020\n",
        "\n",
        "\n",
        "**Last Name - First Name - (abc123)**\n",
        "\n",
        "\n",
        "\n",
        "\n"
      ]
    },
    {
      "cell_type": "markdown",
      "metadata": {
        "id": "NM8b9KVYsETT",
        "colab_type": "text"
      },
      "source": [
        "## Learning Objectives\n",
        "\n",
        "\n",
        "\n",
        "*   Game Playing\n",
        "*   Adversarial Search\n",
        "*   Chess - Board Setup & Rules\n",
        "*   AI - Random vs MinMax\n"
      ]
    },
    {
      "cell_type": "markdown",
      "metadata": {
        "id": "LzR4Ic34zJlT",
        "colab_type": "text"
      },
      "source": [
        "\n",
        "## Description\n",
        "\n",
        "This assignment is focused on **game playing** and creating a proper **AI for chess**. \n",
        "In the following sections, you will complete a series of tasks to create a chess game board, rules for each chess piece, a Random AI and a MinMax AI that plays a game of chess for both players (white and black).\n",
        "\n",
        "The base structure of the code is provided. You are supposed to write code for each of the functions. Comments are provided on what should be done. You **CANNOT** use a complete chess library and change the base code structure completely. However, you **CAN** change the code layout and name/format of the functions.\n"
      ]
    },
    {
      "cell_type": "markdown",
      "metadata": {
        "id": "YeYRnesWqvLm",
        "colab_type": "text"
      },
      "source": [
        "#Chess Board Setup & Rules\n",
        "\n",
        "In this section, you will write code to import the necessary libraries and create:\n",
        "\n",
        "1.   **ChessBoard** - This part will contain code to initialize the board, draw the board, get the board state and move piece.\n",
        "2.   **ChessRules** - This part will contain code for the chess rules for each piece.\n",
        "\n"
      ]
    },
    {
      "cell_type": "markdown",
      "metadata": {
        "id": "vnPfmHAOteOI",
        "colab_type": "text"
      },
      "source": [
        "##Import Libraries\n",
        "\n",
        "The code here will contain only **import** statements. A base list of the required libraries are already imported. You will most likely not need any other libraries, but if needed, add the import statements here. As mentioned before, you can not use any premade chess libraries."
      ]
    },
    {
      "cell_type": "code",
      "metadata": {
        "id": "f9apbZGptej6",
        "colab_type": "code",
        "colab": {}
      },
      "source": [
        "# your code goes here\n",
        "import string\n",
        "import random\n",
        "import os\n",
        "import sys\n",
        "import time\n",
        "from IPython.display import clear_output\n"
      ],
      "execution_count": null,
      "outputs": []
    },
    {
      "cell_type": "markdown",
      "metadata": {
        "id": "IUVZIK6ctMi4",
        "colab_type": "text"
      },
      "source": [
        "##ChessBoard\n",
        "\n",
        "(10 points)\n",
        "\n",
        "Fill the code in the code structure provided below for the ChessBoard. The main use of this code block write functions to initialize the board, draw the board, get the board state and move piece. You can add any other functions if needed.\n"
      ]
    },
    {
      "cell_type": "code",
      "metadata": {
        "id": "YdPwgSBOtb1P",
        "colab_type": "code",
        "colab": {}
      },
      "source": [
        "# you can add/change the input parameters for each function \n",
        "# you can change the function names and also add more functions if needed\n",
        "\n",
        "\n",
        "def ChessBoardSetup():\n",
        "    # initialize and return a chess board - create a 2D 8x8 array that has the value for each cell\n",
        "    # USE the following characters for the chess pieces - lower-case for BLACK and upper-case for WHITE\n",
        "    # . for empty board cell\n",
        "    # p/P for pawn\n",
        "    # r/R for rook\n",
        "    # t/T for knight\n",
        "    # b/B for bishop\n",
        "    # q/Q for queen\n",
        "    # k/K for king\n",
        "\n",
        "\n",
        "def DrawBoard():\n",
        "    # write code to print the board - following is one print example\n",
        "    # r t b q k b t r\n",
        "    # p p p p p p p p\n",
        "    # . . . . . . . .\n",
        "    # . . . . . . . .\n",
        "    # . . . . . . . .\n",
        "    # . . . . . . . .\n",
        "    # P P P P P P P P\n",
        "    # R T B Q K B T R\n",
        "\n",
        "\n",
        "def MovePiece():\n",
        "    # write code to move the one chess piece\n",
        "    # you do not have to worry about the validity of the move - this will be done before calling this function\n",
        "    # this function will at least take the move (from-peice and to-piece) as input and return the new board layout\n",
        "\n"
      ],
      "execution_count": null,
      "outputs": []
    },
    {
      "cell_type": "markdown",
      "metadata": {
        "id": "lYxmgcnes9cS",
        "colab_type": "text"
      },
      "source": [
        "##ChessRules\n",
        "\n",
        "(40 points)\n",
        "\n",
        "Fill the code in the code structure provided below for ChessRules. The main use of the code block is to write functions to design the rules for movement of each piece on the board. This block will also contain the function to check if the current player is in check, check-mate. You can also have functions that can return the current player's pieces that have legal moves in the current board state. \n",
        "\n",
        "Following are some **suggested** functions. You can create/remove functions as needed \n"
      ]
    },
    {
      "cell_type": "code",
      "metadata": {
        "id": "fbBNakSDq0Wv",
        "colab_type": "code",
        "colab": {}
      },
      "source": [
        "def IsMoveLegal():\n",
        "    # return True if a move (from-piece and to-piece) is legal, else False\n",
        "    # this is the KEY function which contains the rules for each piece type \n",
        "\n",
        "\n",
        "def GetListOfLegalMoves():\n",
        "    # gets a list of legal moves for a given piece\n",
        "\n",
        "\n",
        "def GetPiecesWithLegalMoves():\n",
        "    # gets a list of all pieces for the current player that have legal moves \n",
        "    # a piece can be denoted just by (row, col)\n",
        "\n",
        "\n",
        "def IsCheckmate():\n",
        "    # returns True if the current player is in checkmate, else False\n",
        "\n",
        "\n",
        "def IsInCheck():\n",
        "    # returns True if a given player is in Check state\n",
        "    # One way to check: \n",
        "    #   find given player's King\n",
        "    #   check if any enemy player's piece has a legal move to the given player's King\n",
        "    #   return True if there is any legal move\n",
        "\n",
        "\n",
        "def IsClearPath():\n",
        "    # helper function to figure out if a move is legal for straight-line moves (rooks, bishops, queens, pawns)\n",
        "    # returns True if the path is clear for a move (from-piece and to-piece), non-inclusive\n",
        "\n",
        "\n",
        "def DoesMovePutPlayerInCheck():\n",
        "    # makes a hypothetical move (from-piece and to-piece)\n",
        "    # returns True if it puts current player into check\n",
        "\n"
      ],
      "execution_count": null,
      "outputs": []
    },
    {
      "cell_type": "markdown",
      "metadata": {
        "id": "onnqJYTEq0l3",
        "colab_type": "text"
      },
      "source": [
        "#Artificial Intelligence\n",
        "\n",
        "In this section, you will write code for the Artificial Intelligence (AI) that will play a game of chess. You will write 2 types of AI:\n",
        "\n",
        "1.   **RandomAI** - This part will contain code for moving a chess piece randomly.\n",
        "2.   **MinMaxAI** - This part will contain code for moving a chess piece using the MinMax strategy discussed in the lecture.\n"
      ]
    },
    {
      "cell_type": "markdown",
      "metadata": {
        "id": "eDNztBkTtRPw",
        "colab_type": "text"
      },
      "source": [
        "##RandomAI\n",
        "\n",
        "(10 points)\n",
        "\n",
        "Complete the function below that will perform a random move for the given player. The function will return the move (from-piece and to-piece). You will most likely not need to write any other function, but you can, if needed.\n"
      ]
    },
    {
      "cell_type": "code",
      "metadata": {
        "id": "XELGzRDftS77",
        "colab_type": "code",
        "colab": {}
      },
      "source": [
        "def GetRandomMove():\n",
        "    # pick a random piece and a random legal move for that piece\n",
        "\n",
        "    "
      ],
      "execution_count": null,
      "outputs": []
    },
    {
      "cell_type": "markdown",
      "metadata": {
        "id": "YvYowzzA4vcd",
        "colab_type": "text"
      },
      "source": [
        "##MinMaxAI\n",
        "\n",
        "(50 points)\n",
        "\n",
        "Complete the functions below that will perform a move for the given player using the MinMax AI strategy. One function will evaluate the board if a move is performed - give score for each of piece and calculate the score for the entire chess board. In the second function you will write actual code for the MinMax strategy and return the move (from-piece and to-piece). To get the allocated 50 points, searching should be **2-ply (one Max and one Min)**. You will most likely not need to write any other function, but you can, if needed.\n",
        "\n",
        "## Extra Credit\n",
        "\n",
        "*   **(5 points)** Modify the above MinMax strategy to be **4-ply (one Max, one Min, one Max, one Min)**.\n",
        "*   **(5 points)** Perform **alpha-beta pruning** for the MinMax strategy."
      ]
    },
    {
      "cell_type": "code",
      "metadata": {
        "id": "FYSK99zp5a7H",
        "colab_type": "code",
        "colab": {}
      },
      "source": [
        "def evl():\n",
        "    # this function will calculate the score on the board, if a move is performed\n",
        "    # give score for each of piece and calculate the score for the chess board\n",
        "\n",
        "\n",
        "def GetMinMaxMove():\n",
        "    # return the best move for the current player using the MinMax strategy\n",
        "    # to get the allocated 50 points, searching should be 2-ply (one Max and one Min)\n",
        "\n"
      ],
      "execution_count": null,
      "outputs": []
    },
    {
      "cell_type": "markdown",
      "metadata": {
        "id": "YCsUNyl3KWrb",
        "colab_type": "text"
      },
      "source": [
        "#Game Setup & Main Loop\n",
        "\n",
        "(10 points)\n",
        "\n",
        "Write code below to have a game-play between two AIs - Random vs MinMax. For each iteration, draw the board before and after a turn. "
      ]
    },
    {
      "cell_type": "code",
      "metadata": {
        "id": "oYcy29SdK3Xn",
        "colab_type": "code",
        "colab": {}
      },
      "source": [
        "# initialize and setup the board\n",
        "# player assignment and counter initializations\n",
        "\n",
        "# main game loop - while a player is not in checkmate or stalemate (<N turns)\n",
        "# below is the rough looping strategy\n",
        "while not IsCheckmate() and turns < N:\n",
        "    clear_output()\n",
        "    DrawBoard(board)\n",
        "\n",
        "    # write code to take turns and move the pieces\n",
        "    DrawBoard(board)\n",
        "    time.sleep(0.5)\n",
        "\n",
        "# check and print - Stalemate or Checkmate\n"
      ],
      "execution_count": null,
      "outputs": []
    },
    {
      "cell_type": "markdown",
      "metadata": {
        "id": "YJSFgNBQrhQU",
        "colab_type": "text"
      },
      "source": [
        "#Submission Instructions\n",
        "\n",
        "\n",
        "\n",
        "1.   Complete all tasks above.\n",
        "2.   Export this notebook as .ipynb\n",
        "      (File > Download as ipynb)\n",
        "3.   Upload the .ipynb file on Blackboard\n",
        "\n"
      ]
    },
    {
      "cell_type": "markdown",
      "metadata": {
        "id": "0lGvLE9H6ptL",
        "colab_type": "text"
      },
      "source": [
        "##Rubric\n",
        "\n",
        "*   (10 points) Chess Board Setup\n",
        "*   (40 points) Chess Rules Setup\n",
        "*   (10 points) Random AI\n",
        "*   (50 points) MinMax AI (2-ply)\n",
        "*   (10 points) Game Main Loop - Random vs MinMax\n",
        "*   (10 points) Extra Credit - 4-ply MinMax + alpha-beta pruning\n",
        "\n",
        "\n",
        "\n"
      ]
    }
  ]
}